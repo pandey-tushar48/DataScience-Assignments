{
  "nbformat": 4,
  "nbformat_minor": 0,
  "metadata": {
    "colab": {
      "provenance": []
    },
    "kernelspec": {
      "name": "python3",
      "display_name": "Python 3"
    },
    "language_info": {
      "name": "python"
    }
  },
  "cells": [
    {
      "cell_type": "markdown",
      "source": [
        "**Data Types and Structures Questions**"
      ],
      "metadata": {
        "id": "SI9quLIUgLKL"
      }
    },
    {
      "cell_type": "markdown",
      "source": [
        "**1. What are data structures, and why are they important?**\n",
        "\n",
        "-> Data structures are the way to organize, format and store data in such designed way so that they can be retrieved and manipulated efficiently by user.\n",
        "\n",
        "-> Python has several data structures of its own like String, List, Tuples, Dictionary etc., which helps user to perform operations on data in much convenient way.\n",
        "\n",
        "**2. Explain the difference between mutable and immutable data types with examples?**\n",
        "\n",
        "-> Mutable data types refer to those types which can be changed or modified after creation and hence no new object will be created.\n",
        "Examples - Python has mutable data structures like List, Dictionary, Set etc.\n",
        "\n",
        "-> Immutable data types refers to those types which cannot be changed or modified after creation. An operations which may seems to change the immutable type, it results into a new object creation.\n",
        "Examples - Python has immutable data structures like String, Tuples etc.\n",
        "\n",
        "**3. What are the main differences between lists and tuples in Python?**\n",
        "\n",
        "-> Lists Data structure is mutable in nature i.e., elements of list can be modified and changed after creation. It can be represented as grocery_list which can be modified on our needs.\n",
        "\n",
        "-> Tuples are immutable in nature i.e., once it is created then elements cannot be modified later. It can be used to store such items like aadhar number, user_id etc. which are created only ones for each user.\n",
        "\n",
        "**4. Describe how dictionaries store data?**\n",
        "\n",
        "-> Dictionaries store data in form of Key, Value pairs where Key can be integer, string and boolean etc. Elements in dictionary can be accessed and modified using Key easily.\n",
        "Use Case - Can be used to record frequency of events.\n",
        "\n",
        "**5. Why might you use a set instead of a list in Python?**\n",
        "\n",
        "-> Lists are used to store ordered collection of data. It also stores duplicates items. However, Set are used to store data in unordered fashion and it does not allow duplication.\n",
        "Hence, when we wants to store only unique elements then it is convenient to use set in Python.\n",
        "\n",
        "**6. What is a string in Python, and how is it different from a list?**\n",
        "\n",
        "-> String represent sequence of character and it is a immutable Data Structure.\n",
        "Once String is defined they it cannot be modified.\n",
        "\n",
        "-> List is used to store collections of hetrogenous data and it is mutable in nature. It can be modified and manipulated after creation.\n",
        "\n",
        "**7. How do tuples ensure data integrity in Python?**\n",
        "\n",
        "-> Tuples are immutable in nature and hence, it won't allow user to modify the data once it is created. However, user can add some more data and clear or delete the whole tuple but can't modify existing data.\n",
        "\n",
        "**8. What is a hash table, and how does it relate to dictionaries in Python?**\n",
        "\n",
        "-> Hash table store data in form of Key and Value pairs. Hence, it allows fast retrieval of data. In same way, Dictionary in python also store data in form of Key, Value pairs which allows easy and fast retrival of data.\n",
        "\n",
        "**9. Can lists contain different data types in Python?**\n",
        "\n",
        "-> Yes, list can store hetrogeneous types on data. It can store String, Integers, Float, Boolean, Complex Numbers etc.\n",
        "\n",
        "**10. Explain why strings are immutable in Python?**\n",
        "\n",
        "-> A defined string can be used in different methods of classes. If Strings are mutable, then we can change the value of String at any methods and it will impact all other use cases of the same string. Hence, it will break the application. Hence, the reason String is immutable so, that it can't be modified.\n",
        "\n",
        "**11. What advantages do dictionaries offer over lists for certain tasks?**\n",
        "\n",
        "-> Dictionaries store data in form of Key,Value pairs whereas List store data in form of ordered collection. When we want to store data related to some user or event then it is much efficient to use the dictionary than list. It will be very confusing and complicated to retrieve info of that user. But Dictionary allow us to store in form of Key, Value and hence allow easy retreival of selected information.\n",
        "For example - If we want to store the frequency of an element then it will be much helpful to use dictionary instead of list.\n",
        "\n",
        "**12. Describe a scenario where using a tuple would be preferable over a list?**\n",
        "\n",
        "-> Tuples provide immutability and data integrity. It provides the read-only feature. Hence, if once record is created then no modification allowed to data.\n",
        "In case geo locations, aadhar_number, voter_id etc., we don't want any accidental changes to happen to these records because these are unique data respect to each user.\n",
        "\n",
        "**13. How do sets handle duplicate values in Python?**\n",
        "\n",
        "-> Sets don't allow storage of duplicate values, only unique values are allowed. If a user want to store a duplicate value, then if value is present in the set then it will not be added again.\n",
        "\n",
        "**14. How does the “in” keyword work differently for lists and dictionaries?**\n",
        "\n",
        "-> Membership operator 'in' is used to verify if record is present in list or not. It returns boolean value True if record is present otherwise, false.\n",
        "\n",
        "-> For Dictionary, 'in' used to traversed through Keys to verify if particular key is present or not. It will not touch values, only key will be traversed. It also returns a boolean value of true or false.\n",
        "\n",
        "**15. Can you modify the elements of a tuple? Explain why or why not?**\n",
        "\n",
        "-> A tuple is a immutable data structure and hence, we cannot modify the elements of tuple. It is created to store fixed and unchangeable data only.\n",
        "\n",
        "**16. What is a nested dictionary, and give an example of its use case?**\n",
        "\n",
        "-> A dictionary defined inside another dictionary is called nested dictionary.\n",
        "\n",
        "Use Case - To store the data of each day of a restaurant, we can use nested dictionary. Let's say, a restaurant owner wants to store name, contact of the peoples who eats at his restaurant for seven days.\n",
        "Restaurant owner can create a dictionary with DayName as Keys and another dictionary with name, contact as values.\n",
        "\n",
        "Ex:\n",
        "{\"Monday\": {\"name\": \"Rahul\" , \"Contact\": 1234}, \"Tuesday\": {\"name\": \"Pankaj\" , \"Contact\": 2345}} and so on.\n",
        "\n",
        "**17. Describe the time complexity of accessing elements in a dictionary?**\n",
        "\n",
        "-> We can access an element of Dictionary by using Key directly. Hence, dictionary takes O(1) times complexity for accessing an element.\n",
        "\n",
        "**18. In what situations are lists preferred over dictionaries?**\n",
        "\n",
        "-> When we want to store huge number of records in sequence, order is mattered and also duplicated elements are there, then list is preferred. When the requirement is for sequential access of all elements then list can be preffered.\n",
        "\n",
        "**19. Why are dictionaries considered unordered, and how does that affect data retrieval?**\n",
        "\n",
        "-> In dictionary, elements are stored in Key, Value pairs and hence order does not matter. If you want to add some value in dictionary then you to have add value with respective Key only. If that Key is already present then exisiting value will be overriden by new value.\n",
        "\n",
        "**20. Explain the difference between a list and a dictionary in terms of data retrieval?**\n",
        "\n",
        "-> In case of dictionary, if want to access the elements in respect to there key then it will take O(1) time. However, if want to access each Key and their respective Values then it will take O(n) time.\n",
        "\n",
        "-> In case of list, if we aware of the index of searcheable item then we can directly access the item in O(1) time. To access all elements, we have to iterate through each element in list and it will take O(n) time."
      ],
      "metadata": {
        "id": "-byGyBr7NaQn"
      }
    },
    {
      "cell_type": "markdown",
      "source": [
        "**Practical Questions:**"
      ],
      "metadata": {
        "id": "3mc6NX39grJU"
      }
    },
    {
      "cell_type": "code",
      "source": [
        "# 1 - Write a code to create a string with your name and print it.\n",
        "my_name = \"Tushar Pandey\"\n",
        "print(my_name)"
      ],
      "metadata": {
        "colab": {
          "base_uri": "https://localhost:8080/"
        },
        "id": "hYRfweS_R0rs",
        "outputId": "5ec22f75-c1e1-407a-fe90-171a66cbe723"
      },
      "execution_count": 32,
      "outputs": [
        {
          "output_type": "stream",
          "name": "stdout",
          "text": [
            "Tushar Pandey\n"
          ]
        }
      ]
    },
    {
      "cell_type": "code",
      "source": [
        "# 2 - Write a code to find the length of the string \"Hello World\".\n",
        "sample = \"Hello World\"\n",
        "len(sample)"
      ],
      "metadata": {
        "colab": {
          "base_uri": "https://localhost:8080/"
        },
        "id": "uZXynbqihT0i",
        "outputId": "3415bcbd-1284-45be-a80c-3af8daf3240d"
      },
      "execution_count": 2,
      "outputs": [
        {
          "output_type": "execute_result",
          "data": {
            "text/plain": [
              "11"
            ]
          },
          "metadata": {},
          "execution_count": 2
        }
      ]
    },
    {
      "cell_type": "code",
      "source": [
        "# 3 - Write a code to slice the first 3 characters from the string \"Python Programming\".\n",
        "sample = \"Python Programming\"\n",
        "sample[0:3]"
      ],
      "metadata": {
        "colab": {
          "base_uri": "https://localhost:8080/",
          "height": 35
        },
        "id": "B9uxtVTDhfPJ",
        "outputId": "b78afb59-0eb6-433d-e803-a7e52df364d6"
      },
      "execution_count": 3,
      "outputs": [
        {
          "output_type": "execute_result",
          "data": {
            "text/plain": [
              "'Pyt'"
            ],
            "application/vnd.google.colaboratory.intrinsic+json": {
              "type": "string"
            }
          },
          "metadata": {},
          "execution_count": 3
        }
      ]
    },
    {
      "cell_type": "code",
      "source": [
        "# 4 - Write a code to convert the string \"hello\" to uppercase.\n",
        "sample = \"hello\"\n",
        "sample.upper()"
      ],
      "metadata": {
        "colab": {
          "base_uri": "https://localhost:8080/",
          "height": 35
        },
        "id": "HOCxZjvYhwCd",
        "outputId": "b7eccaa4-8d5f-4db8-ad43-53fa86b9d26c"
      },
      "execution_count": 7,
      "outputs": [
        {
          "output_type": "execute_result",
          "data": {
            "text/plain": [
              "'HELLO'"
            ],
            "application/vnd.google.colaboratory.intrinsic+json": {
              "type": "string"
            }
          },
          "metadata": {},
          "execution_count": 7
        }
      ]
    },
    {
      "cell_type": "code",
      "source": [
        "# 5 - Write a code to replace the word \"apple\" with \"orange\" in the string \"I like apple\".\n",
        "sampleString = \"I like apple\"\n",
        "sampleString.replace(\"apple\", \"orange\")"
      ],
      "metadata": {
        "colab": {
          "base_uri": "https://localhost:8080/",
          "height": 35
        },
        "id": "2_Ti9lUsiE3b",
        "outputId": "04e36aed-0dcd-4b93-884a-304d619518e6"
      },
      "execution_count": 8,
      "outputs": [
        {
          "output_type": "execute_result",
          "data": {
            "text/plain": [
              "'I like orange'"
            ],
            "application/vnd.google.colaboratory.intrinsic+json": {
              "type": "string"
            }
          },
          "metadata": {},
          "execution_count": 8
        }
      ]
    },
    {
      "cell_type": "code",
      "source": [
        "# 6 - Write a code to create a list with numbers 1 to 5 and print it.\n",
        "sampleList = [1,2,3,4,5]\n",
        "print(sampleList)"
      ],
      "metadata": {
        "colab": {
          "base_uri": "https://localhost:8080/"
        },
        "id": "9hNst_FZidn0",
        "outputId": "e3c6d0bc-6392-4310-9bf9-6dcf143c5b66"
      },
      "execution_count": 9,
      "outputs": [
        {
          "output_type": "stream",
          "name": "stdout",
          "text": [
            "[1, 2, 3, 4, 5]\n"
          ]
        }
      ]
    },
    {
      "cell_type": "code",
      "source": [
        "# 7 - Write a code to append the number 10 to the list [1, 2, 3, 4].\n",
        "sampleList = [1, 2, 3, 4]\n",
        "sampleList.append(10)\n",
        "sampleList"
      ],
      "metadata": {
        "colab": {
          "base_uri": "https://localhost:8080/"
        },
        "id": "bZeKsUcWi19d",
        "outputId": "af3321e7-7ed4-4523-ab5b-b983d92f1348"
      },
      "execution_count": 11,
      "outputs": [
        {
          "output_type": "execute_result",
          "data": {
            "text/plain": [
              "[1, 2, 3, 4, 10]"
            ]
          },
          "metadata": {},
          "execution_count": 11
        }
      ]
    },
    {
      "cell_type": "code",
      "source": [
        "# 8 - Write a code to remove the number 3 from the list [1, 2, 3, 4, 5].\n",
        "sampleList = [1, 2, 3, 4, 5]\n",
        "sampleList.remove(3)\n",
        "sampleList"
      ],
      "metadata": {
        "colab": {
          "base_uri": "https://localhost:8080/"
        },
        "id": "WsvqYCsxjEAF",
        "outputId": "5e799ad2-24ca-4f07-9b98-2807a1888e4f"
      },
      "execution_count": 12,
      "outputs": [
        {
          "output_type": "execute_result",
          "data": {
            "text/plain": [
              "[1, 2, 4, 5]"
            ]
          },
          "metadata": {},
          "execution_count": 12
        }
      ]
    },
    {
      "cell_type": "code",
      "source": [
        "# 9 - Write a code to access the second element in the list ['a', 'b', 'c', 'd'].\n",
        "sampleList = ['a', 'b', 'c', 'd']\n",
        "sampleList[1]"
      ],
      "metadata": {
        "colab": {
          "base_uri": "https://localhost:8080/",
          "height": 35
        },
        "id": "d1QG1yv0jRU7",
        "outputId": "f8250bfe-f34d-44cb-b91e-74a70034e5ae"
      },
      "execution_count": 13,
      "outputs": [
        {
          "output_type": "execute_result",
          "data": {
            "text/plain": [
              "'b'"
            ],
            "application/vnd.google.colaboratory.intrinsic+json": {
              "type": "string"
            }
          },
          "metadata": {},
          "execution_count": 13
        }
      ]
    },
    {
      "cell_type": "code",
      "source": [
        "# 10 - Write a code to reverse the list [10, 20, 30, 40, 50].\n",
        "sampleList = [10, 20, 30, 40, 50]\n",
        "sampleList[::-1]"
      ],
      "metadata": {
        "colab": {
          "base_uri": "https://localhost:8080/"
        },
        "id": "oqOj7MR3jj99",
        "outputId": "134d43c9-9b7a-4621-eeca-3b610cf20693"
      },
      "execution_count": 14,
      "outputs": [
        {
          "output_type": "execute_result",
          "data": {
            "text/plain": [
              "[50, 40, 30, 20, 10]"
            ]
          },
          "metadata": {},
          "execution_count": 14
        }
      ]
    },
    {
      "cell_type": "code",
      "source": [
        "# 11 - Write a code to create a tuple with the elements 10, 20, 30 and print it.\n",
        "tup_val = (10, 20, 30)\n",
        "print(tup_val)"
      ],
      "metadata": {
        "colab": {
          "base_uri": "https://localhost:8080/"
        },
        "id": "TygjV5WrjxwC",
        "outputId": "7cbcd481-079d-4f83-f01e-9b2a6c98c15b"
      },
      "execution_count": 31,
      "outputs": [
        {
          "output_type": "stream",
          "name": "stdout",
          "text": [
            "(10, 20, 30)\n"
          ]
        }
      ]
    },
    {
      "cell_type": "code",
      "source": [
        "# 12 - Write a code to access the first element of the tuple ('apple', 'banana', 'cherry').\n",
        "tuple_Values = ('apple', 'banana', 'cherry')\n",
        "tuple_Values[0]"
      ],
      "metadata": {
        "colab": {
          "base_uri": "https://localhost:8080/",
          "height": 35
        },
        "id": "2NWUm38kkHlS",
        "outputId": "6cd74c47-8ed3-400c-fc1c-048191d68ab8"
      },
      "execution_count": 17,
      "outputs": [
        {
          "output_type": "execute_result",
          "data": {
            "text/plain": [
              "'apple'"
            ],
            "application/vnd.google.colaboratory.intrinsic+json": {
              "type": "string"
            }
          },
          "metadata": {},
          "execution_count": 17
        }
      ]
    },
    {
      "cell_type": "code",
      "source": [
        "# 13 - Write a code to count how many times the number 2 appears in the tuple (1, 2, 3, 2, 4, 2).\n",
        "tuple_Values = (1, 2, 3, 2, 4, 2)\n",
        "tuple_Values.count(2)"
      ],
      "metadata": {
        "colab": {
          "base_uri": "https://localhost:8080/"
        },
        "id": "RzqzTs64knRK",
        "outputId": "8d1207a8-7ec1-4567-eb29-7b5ae07e0b45"
      },
      "execution_count": 18,
      "outputs": [
        {
          "output_type": "execute_result",
          "data": {
            "text/plain": [
              "3"
            ]
          },
          "metadata": {},
          "execution_count": 18
        }
      ]
    },
    {
      "cell_type": "code",
      "source": [
        "# 14 - Write a code to find the index of the element \"cat\" in the tuple ('dog', 'cat', 'rabbit').\n",
        "tuple_Values = ('dog', 'cat', 'rabbit')\n",
        "tuple_Values.index('cat')"
      ],
      "metadata": {
        "colab": {
          "base_uri": "https://localhost:8080/"
        },
        "id": "zeCR7gDNkyuZ",
        "outputId": "42acfe72-2423-47b9-dfb4-7dc0ded7e48f"
      },
      "execution_count": 19,
      "outputs": [
        {
          "output_type": "execute_result",
          "data": {
            "text/plain": [
              "1"
            ]
          },
          "metadata": {},
          "execution_count": 19
        }
      ]
    },
    {
      "cell_type": "code",
      "source": [
        "# 15 - Write a code to check if the element \"banana\" is in the tuple ('apple', 'orange', 'banana').\n",
        "tuple_Val = ('apple', 'orange', 'banana')\n",
        "\"banana\" in tuple_Val"
      ],
      "metadata": {
        "colab": {
          "base_uri": "https://localhost:8080/"
        },
        "id": "p4edGT7uk_kN",
        "outputId": "4e40eaf3-db6d-4c02-b0ab-ffe97fa5fbe7"
      },
      "execution_count": 20,
      "outputs": [
        {
          "output_type": "execute_result",
          "data": {
            "text/plain": [
              "True"
            ]
          },
          "metadata": {},
          "execution_count": 20
        }
      ]
    },
    {
      "cell_type": "code",
      "source": [
        "# 16 - Write a code to create a set with the elements 1, 2, 3, 4, 5 and print it.\n",
        "set_val = {1, 2, 3, 4, 5}\n",
        "print(set_val)"
      ],
      "metadata": {
        "colab": {
          "base_uri": "https://localhost:8080/"
        },
        "id": "1i4wT3bXlJpP",
        "outputId": "8107fc58-8624-40b8-ef9b-523a1057d6d8"
      },
      "execution_count": 30,
      "outputs": [
        {
          "output_type": "stream",
          "name": "stdout",
          "text": [
            "{1, 2, 3, 4, 5}\n"
          ]
        }
      ]
    },
    {
      "cell_type": "code",
      "source": [
        "# 17 - Write a code to add the element 6 to the set {1, 2, 3, 4}.\n",
        "set_val = {1, 2, 3, 4}\n",
        "set_val.add(6)\n",
        "set_val"
      ],
      "metadata": {
        "colab": {
          "base_uri": "https://localhost:8080/"
        },
        "id": "f2kprXWMlaB8",
        "outputId": "2d03cac0-9306-4993-d279-81bb08a488ef"
      },
      "execution_count": 25,
      "outputs": [
        {
          "output_type": "execute_result",
          "data": {
            "text/plain": [
              "{1, 2, 3, 4, 6}"
            ]
          },
          "metadata": {},
          "execution_count": 25
        }
      ]
    },
    {
      "cell_type": "code",
      "source": [
        "# 18 - Write a code to create a tuple with the elements 10, 20, 30 and print it.\n",
        "tup_values = (10, 20, 30)\n",
        "print(tup_values)"
      ],
      "metadata": {
        "colab": {
          "base_uri": "https://localhost:8080/"
        },
        "id": "-lLSTI4HluPT",
        "outputId": "823baad1-c398-41e1-f4a3-bb748ab01f7c"
      },
      "execution_count": 29,
      "outputs": [
        {
          "output_type": "stream",
          "name": "stdout",
          "text": [
            "(10, 20, 30)\n"
          ]
        }
      ]
    },
    {
      "cell_type": "code",
      "source": [
        "# 19 - Write a code to access the first element of the tuple ('apple', 'banana', 'cherry').\n",
        "tuple_Values = ('apple', 'banana', 'cherry')\n",
        "tuple_Values[0]"
      ],
      "metadata": {
        "colab": {
          "base_uri": "https://localhost:8080/",
          "height": 35
        },
        "outputId": "3c373be6-28cd-4e1e-f21d-d14534c391a9",
        "id": "QyQZRczbmkPy"
      },
      "execution_count": 33,
      "outputs": [
        {
          "output_type": "execute_result",
          "data": {
            "text/plain": [
              "'apple'"
            ],
            "application/vnd.google.colaboratory.intrinsic+json": {
              "type": "string"
            }
          },
          "metadata": {},
          "execution_count": 33
        }
      ]
    },
    {
      "cell_type": "code",
      "source": [
        "# 20 - Write a code to count how many times the number 2 appears in the tuple (1, 2, 3, 2, 4, 2).\n",
        "tuple_Values = (1, 2, 3, 2, 4, 2)\n",
        "tuple_Values.count(2)"
      ],
      "metadata": {
        "colab": {
          "base_uri": "https://localhost:8080/"
        },
        "id": "6FWkRxwVmmrj",
        "outputId": "d75eb4e7-84ae-4d80-a13b-de10e274844a"
      },
      "execution_count": 34,
      "outputs": [
        {
          "output_type": "execute_result",
          "data": {
            "text/plain": [
              "3"
            ]
          },
          "metadata": {},
          "execution_count": 34
        }
      ]
    },
    {
      "cell_type": "code",
      "source": [
        "# 21 - Write a code to find the index of the element \"cat\" in the tuple ('dog', 'cat', 'rabbit').\n",
        "tuple_Values = ('dog', 'cat', 'rabbit')\n",
        "tuple_Values.index('cat')"
      ],
      "metadata": {
        "colab": {
          "base_uri": "https://localhost:8080/"
        },
        "id": "2Z3T4hyKmtkL",
        "outputId": "64fad005-e78b-456b-f95a-87bf1e1c2fab"
      },
      "execution_count": 35,
      "outputs": [
        {
          "output_type": "execute_result",
          "data": {
            "text/plain": [
              "1"
            ]
          },
          "metadata": {},
          "execution_count": 35
        }
      ]
    },
    {
      "cell_type": "code",
      "source": [
        "# 22 - Write a code to check if the element \"banana\" is in the tuple ('apple', 'orange', 'banana').\n",
        "tuple_Val = ('apple', 'orange', 'banana')\n",
        "\"banana\" in tuple_Val"
      ],
      "metadata": {
        "colab": {
          "base_uri": "https://localhost:8080/"
        },
        "id": "ExmNJqB3m1Mr",
        "outputId": "1a832dff-434a-4d9b-c5e5-2747855f960c"
      },
      "execution_count": 36,
      "outputs": [
        {
          "output_type": "execute_result",
          "data": {
            "text/plain": [
              "True"
            ]
          },
          "metadata": {},
          "execution_count": 36
        }
      ]
    },
    {
      "cell_type": "code",
      "source": [
        "# 23 - Write a code to create a set with the elements 1, 2, 3, 4, 5 and print it.\n",
        "set_val = {1, 2, 3, 4, 5}\n",
        "print(set_val)"
      ],
      "metadata": {
        "colab": {
          "base_uri": "https://localhost:8080/"
        },
        "id": "vvkIoP6Rm-Fe",
        "outputId": "69d88f5d-eb1b-4d4f-c1d9-af39caa6a617"
      },
      "execution_count": 37,
      "outputs": [
        {
          "output_type": "stream",
          "name": "stdout",
          "text": [
            "{1, 2, 3, 4, 5}\n"
          ]
        }
      ]
    },
    {
      "cell_type": "code",
      "source": [
        "# 24 - Write a code to add the element 6 to the set {1, 2, 3, 4}.\n",
        "set_val = {1, 2, 3, 4}\n",
        "set_val.add(6)\n",
        "set_val"
      ],
      "metadata": {
        "colab": {
          "base_uri": "https://localhost:8080/"
        },
        "id": "lpcwUff_nIT_",
        "outputId": "07a937e2-6569-4757-ef21-aec27350891b"
      },
      "execution_count": 38,
      "outputs": [
        {
          "output_type": "execute_result",
          "data": {
            "text/plain": [
              "{1, 2, 3, 4, 6}"
            ]
          },
          "metadata": {},
          "execution_count": 38
        }
      ]
    },
    {
      "cell_type": "code",
      "source": [],
      "metadata": {
        "id": "mdUGK2a5nPNp"
      },
      "execution_count": null,
      "outputs": []
    }
  ]
}